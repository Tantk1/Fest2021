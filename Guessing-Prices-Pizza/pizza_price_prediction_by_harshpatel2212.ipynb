{
 "cells": [
  {
   "cell_type": "markdown",
   "id": "6525c6d7-6501-4db9-86fe-146ea8776a75",
   "metadata": {},
   "source": [
    "# **Pizza Price Prediction** using **Linear Regression**\n",
    "\n",
    "In this case-study we would take data from DataSet search on Google on pizza price records.\n",
    "\n",
    "So without a do lets dive into the **Journey of building an ML model**"
   ]
  },
  {
   "cell_type": "markdown",
   "id": "16938914-7027-472a-8927-090ac66e5646",
   "metadata": {},
   "source": [
    ">### **Import Modules**"
   ]
  },
  {
   "cell_type": "code",
   "execution_count": 1,
   "id": "4e991bc2-0513-43d9-9548-0f8d1ea96c0b",
   "metadata": {},
   "outputs": [],
   "source": [
    "import pandas as pd\n",
    "import matplotlib.pyplot as plt\n",
    "import seaborn as sns\n",
    "import numpy as np\n",
    "from sklearn.linear_model import LinearRegression\n",
    "from sklearn.metrics import r2_score"
   ]
  },
  {
   "cell_type": "markdown",
   "id": "36030883-d85c-4838-a92c-b1d56ecbf6fe",
   "metadata": {},
   "source": [
    ">### **Dataset**\n",
    "\n",
    "**This Dataset has the price record in the Indonesian Currency, you can convert indonesian Rupiah to your own currency.**\n",
    "\n",
    "Thanks to **Kaggle** for this Dataset."
   ]
  },
  {
   "cell_type": "code",
   "execution_count": 2,
   "id": "af3e12c4-d010-4135-b2c9-c3435d192df5",
   "metadata": {},
   "outputs": [],
   "source": [
    "pizza_df = pd.read_csv(\"pizza_price_records.csv\")"
   ]
  },
  {
   "cell_type": "code",
   "execution_count": 3,
   "id": "fde27fe3-2aaf-4375-b847-01830267fc8f",
   "metadata": {},
   "outputs": [
    {
     "data": {
      "text/html": [
       "<div>\n",
       "<style scoped>\n",
       "    .dataframe tbody tr th:only-of-type {\n",
       "        vertical-align: middle;\n",
       "    }\n",
       "\n",
       "    .dataframe tbody tr th {\n",
       "        vertical-align: top;\n",
       "    }\n",
       "\n",
       "    .dataframe thead th {\n",
       "        text-align: right;\n",
       "    }\n",
       "</style>\n",
       "<table border=\"1\" class=\"dataframe\">\n",
       "  <thead>\n",
       "    <tr style=\"text-align: right;\">\n",
       "      <th></th>\n",
       "      <th>company</th>\n",
       "      <th>price_rupiah</th>\n",
       "      <th>diameter</th>\n",
       "      <th>topping</th>\n",
       "      <th>variant</th>\n",
       "      <th>size</th>\n",
       "      <th>extra_sauce</th>\n",
       "      <th>extra_cheese</th>\n",
       "    </tr>\n",
       "  </thead>\n",
       "  <tbody>\n",
       "    <tr>\n",
       "      <th>0</th>\n",
       "      <td>A</td>\n",
       "      <td>Rp235,000</td>\n",
       "      <td>22.0</td>\n",
       "      <td>chicken</td>\n",
       "      <td>double_signature</td>\n",
       "      <td>jumbo</td>\n",
       "      <td>yes</td>\n",
       "      <td>yes</td>\n",
       "    </tr>\n",
       "    <tr>\n",
       "      <th>1</th>\n",
       "      <td>A</td>\n",
       "      <td>Rp198,000</td>\n",
       "      <td>20.0</td>\n",
       "      <td>papperoni</td>\n",
       "      <td>double_signature</td>\n",
       "      <td>jumbo</td>\n",
       "      <td>yes</td>\n",
       "      <td>yes</td>\n",
       "    </tr>\n",
       "    <tr>\n",
       "      <th>2</th>\n",
       "      <td>A</td>\n",
       "      <td>Rp120,000</td>\n",
       "      <td>16.0</td>\n",
       "      <td>mushrooms</td>\n",
       "      <td>double_signature</td>\n",
       "      <td>reguler</td>\n",
       "      <td>yes</td>\n",
       "      <td>yes</td>\n",
       "    </tr>\n",
       "    <tr>\n",
       "      <th>3</th>\n",
       "      <td>A</td>\n",
       "      <td>Rp155,000</td>\n",
       "      <td>14.0</td>\n",
       "      <td>smoked beef</td>\n",
       "      <td>double_signature</td>\n",
       "      <td>reguler</td>\n",
       "      <td>yes</td>\n",
       "      <td>no</td>\n",
       "    </tr>\n",
       "    <tr>\n",
       "      <th>4</th>\n",
       "      <td>A</td>\n",
       "      <td>Rp248,000</td>\n",
       "      <td>18.0</td>\n",
       "      <td>mozzarella</td>\n",
       "      <td>double_signature</td>\n",
       "      <td>jumbo</td>\n",
       "      <td>yes</td>\n",
       "      <td>no</td>\n",
       "    </tr>\n",
       "  </tbody>\n",
       "</table>\n",
       "</div>"
      ],
      "text/plain": [
       "  company price_rupiah  diameter      topping           variant     size  \\\n",
       "0       A    Rp235,000      22.0      chicken  double_signature    jumbo   \n",
       "1       A    Rp198,000      20.0    papperoni  double_signature    jumbo   \n",
       "2       A    Rp120,000      16.0    mushrooms  double_signature  reguler   \n",
       "3       A    Rp155,000      14.0  smoked beef  double_signature  reguler   \n",
       "4       A    Rp248,000      18.0   mozzarella  double_signature    jumbo   \n",
       "\n",
       "  extra_sauce extra_cheese  \n",
       "0         yes          yes  \n",
       "1         yes          yes  \n",
       "2         yes          yes  \n",
       "3         yes           no  \n",
       "4         yes           no  "
      ]
     },
     "execution_count": 3,
     "metadata": {},
     "output_type": "execute_result"
    }
   ],
   "source": [
    "pizza_df.head()"
   ]
  },
  {
   "cell_type": "markdown",
   "id": "69a70971-76db-4665-8277-088909c05cfe",
   "metadata": {},
   "source": [
    ">### **Data Cleaning**"
   ]
  },
  {
   "cell_type": "code",
   "execution_count": 4,
   "id": "1951c08d-2034-43e1-9d88-ca70c5ad1889",
   "metadata": {},
   "outputs": [
    {
     "name": "stdout",
     "output_type": "stream",
     "text": [
      "<class 'pandas.core.frame.DataFrame'>\n",
      "RangeIndex: 129 entries, 0 to 128\n",
      "Data columns (total 8 columns):\n",
      " #   Column        Non-Null Count  Dtype  \n",
      "---  ------        --------------  -----  \n",
      " 0   company       129 non-null    object \n",
      " 1   price_rupiah  129 non-null    object \n",
      " 2   diameter      129 non-null    float64\n",
      " 3   topping       129 non-null    object \n",
      " 4   variant       129 non-null    object \n",
      " 5   size          129 non-null    object \n",
      " 6   extra_sauce   129 non-null    object \n",
      " 7   extra_cheese  129 non-null    object \n",
      "dtypes: float64(1), object(7)\n",
      "memory usage: 8.2+ KB\n"
     ]
    }
   ],
   "source": [
    "pizza_df.info()"
   ]
  },
  {
   "cell_type": "code",
   "execution_count": 5,
   "id": "80b501da-0248-4c72-80d1-bb6271ca7933",
   "metadata": {},
   "outputs": [
    {
     "data": {
      "text/plain": [
       "company         0\n",
       "price_rupiah    0\n",
       "diameter        0\n",
       "topping         0\n",
       "variant         0\n",
       "size            0\n",
       "extra_sauce     0\n",
       "extra_cheese    0\n",
       "dtype: int64"
      ]
     },
     "execution_count": 5,
     "metadata": {},
     "output_type": "execute_result"
    }
   ],
   "source": [
    "pizza_df.isna().sum()"
   ]
  },
  {
   "cell_type": "markdown",
   "id": "3b9b40cd-eabd-419a-b816-8571be6b6209",
   "metadata": {},
   "source": [
    "**The Data is Clean and has no missing values**"
   ]
  },
  {
   "cell_type": "markdown",
   "id": "c695a3a5-a6f2-4f7f-9a12-f314ee08afec",
   "metadata": {},
   "source": [
    ">### **Data Visualization**"
   ]
  },
  {
   "cell_type": "code",
   "execution_count": 6,
   "id": "1362a859-d44f-4e31-afea-dd5613716ae8",
   "metadata": {},
   "outputs": [
    {
     "data": {
      "text/plain": [
       "Index(['company', 'price_rupiah', 'diameter', 'topping', 'variant', 'size',\n",
       "       'extra_sauce', 'extra_cheese'],\n",
       "      dtype='object')"
      ]
     },
     "execution_count": 6,
     "metadata": {},
     "output_type": "execute_result"
    }
   ],
   "source": [
    "pizza_df.columns"
   ]
  },
  {
   "cell_type": "code",
   "execution_count": 7,
   "id": "143119c8-a97f-4581-b84f-0443d9118b6b",
   "metadata": {},
   "outputs": [
    {
     "data": {
      "text/plain": [
       "C    30\n",
       "E    30\n",
       "A    25\n",
       "B    24\n",
       "D    20\n",
       "Name: company, dtype: int64"
      ]
     },
     "execution_count": 7,
     "metadata": {},
     "output_type": "execute_result"
    }
   ],
   "source": [
    "pizza_df['company'].value_counts()"
   ]
  },
  {
   "cell_type": "code",
   "execution_count": 8,
   "id": "6a7bc16e-3e45-476b-85f1-96b0e769602d",
   "metadata": {},
   "outputs": [
    {
     "data": {
      "text/plain": [
       "<AxesSubplot:xlabel='count', ylabel='topping'>"
      ]
     },
     "execution_count": 8,
     "metadata": {},
     "output_type": "execute_result"
    },
    {
     "data": {
      "image/png": "[encoded data removed]",
      "text/plain": [
       "<Figure size 432x288 with 1 Axes>"
      ]
     },
     "metadata": {
      "needs_background": "light"
     },
     "output_type": "display_data"
    }
   ],
   "source": [
    "sns.countplot(data = pizza_df,y = 'topping')"
   ]
  },
  {
   "cell_type": "code",
   "execution_count": 9,
   "id": "61dd7d34-3299-4d0d-889c-839e016dbc9d",
   "metadata": {},
   "outputs": [
    {
     "data": {
      "text/plain": [
       "<AxesSubplot:xlabel='count', ylabel='variant'>"
      ]
     },
     "execution_count": 9,
     "metadata": {},
     "output_type": "execute_result"
    },
    {
     "data": {
      "image/png": "[encoded data removed]",
      "text/plain": [
       "<Figure size 432x288 with 1 Axes>"
      ]
     },
     "metadata": {
      "needs_background": "light"
     },
     "output_type": "display_data"
    }
   ],
   "source": [
    "sns.countplot(data = pizza_df,y = 'variant')"
   ]
  },
  {
   "cell_type": "markdown",
   "id": "adece5b7-fc0e-4ac5-afd5-c050cadf700e",
   "metadata": {},
   "source": [
    ">### **Data Wrangling**"
   ]
  },
  {
   "cell_type": "markdown",
   "id": "f9da0efb-a64c-4f29-b072-ee2d2b229b76",
   "metadata": {},
   "source": [
    "Here, our **target feature** is of data type **object** as the price_rupiah column has enteries of type object.\n",
    "So, we modify it to **float64** using **replace**, **apply** and **astype** method as shown below"
   ]
  },
  {
   "cell_type": "code",
   "execution_count": 10,
   "id": "4b496ff5-7051-4234-8098-525c4c1cb228",
   "metadata": {},
   "outputs": [],
   "source": [
    "pizza_df.price_rupiah = pizza_df.price_rupiah.apply(lambda x : x.replace('Rp',''))  #replcae Rp to ''\n",
    "pizza_df.price_rupiah = pizza_df.price_rupiah.apply(lambda x : x.replace(',',''))   #replcae ',' to ''"
   ]
  },
  {
   "cell_type": "code",
   "execution_count": 11,
   "id": "942f983c-01f1-4622-8a6f-a2492f130bfd",
   "metadata": {},
   "outputs": [
    {
     "data": {
      "text/html": [
       "<div>\n",
       "<style scoped>\n",
       "    .dataframe tbody tr th:only-of-type {\n",
       "        vertical-align: middle;\n",
       "    }\n",
       "\n",
       "    .dataframe tbody tr th {\n",
       "        vertical-align: top;\n",
       "    }\n",
       "\n",
       "    .dataframe thead th {\n",
       "        text-align: right;\n",
       "    }\n",
       "</style>\n",
       "<table border=\"1\" class=\"dataframe\">\n",
       "  <thead>\n",
       "    <tr style=\"text-align: right;\">\n",
       "      <th></th>\n",
       "      <th>company</th>\n",
       "      <th>price_rupiah</th>\n",
       "      <th>diameter</th>\n",
       "      <th>topping</th>\n",
       "      <th>variant</th>\n",
       "      <th>size</th>\n",
       "      <th>extra_sauce</th>\n",
       "      <th>extra_cheese</th>\n",
       "    </tr>\n",
       "  </thead>\n",
       "  <tbody>\n",
       "    <tr>\n",
       "      <th>0</th>\n",
       "      <td>A</td>\n",
       "      <td>235000</td>\n",
       "      <td>22.0</td>\n",
       "      <td>chicken</td>\n",
       "      <td>double_signature</td>\n",
       "      <td>jumbo</td>\n",
       "      <td>yes</td>\n",
       "      <td>yes</td>\n",
       "    </tr>\n",
       "    <tr>\n",
       "      <th>1</th>\n",
       "      <td>A</td>\n",
       "      <td>198000</td>\n",
       "      <td>20.0</td>\n",
       "      <td>papperoni</td>\n",
       "      <td>double_signature</td>\n",
       "      <td>jumbo</td>\n",
       "      <td>yes</td>\n",
       "      <td>yes</td>\n",
       "    </tr>\n",
       "  </tbody>\n",
       "</table>\n",
       "</div>"
      ],
      "text/plain": [
       "  company price_rupiah  diameter    topping           variant   size  \\\n",
       "0       A       235000      22.0    chicken  double_signature  jumbo   \n",
       "1       A       198000      20.0  papperoni  double_signature  jumbo   \n",
       "\n",
       "  extra_sauce extra_cheese  \n",
       "0         yes          yes  \n",
       "1         yes          yes  "
      ]
     },
     "execution_count": 11,
     "metadata": {},
     "output_type": "execute_result"
    }
   ],
   "source": [
    "pizza_df.head(2)"
   ]
  },
  {
   "cell_type": "code",
   "execution_count": 12,
   "id": "a61c005c-d293-446d-aa06-8e5067ecf2c9",
   "metadata": {},
   "outputs": [],
   "source": [
    "pizza_df['price_rupiah'] = pizza_df['price_rupiah'].astype('float64')"
   ]
  },
  {
   "cell_type": "code",
   "execution_count": 13,
   "id": "8af5315a-1d81-468c-aae0-0a48ec15c512",
   "metadata": {},
   "outputs": [
    {
     "data": {
      "text/plain": [
       "dtype('float64')"
      ]
     },
     "execution_count": 13,
     "metadata": {},
     "output_type": "execute_result"
    }
   ],
   "source": [
    "pizza_df['price_rupiah'].dtype"
   ]
  },
  {
   "cell_type": "markdown",
   "id": "29088d38-d295-4a33-b899-4a4d408868bb",
   "metadata": {},
   "source": [
    ">### **Training Model** "
   ]
  },
  {
   "cell_type": "markdown",
   "id": "9bc6ef2b-fb05-49c8-835c-fbadb05715fe",
   "metadata": {},
   "source": [
    "we want to predict price of pizza based on the diameter of the pizza using Linear Regression so we would drop all other variables, but we can also create different model like multiple regression and also some classification techniques, where the impact of extra cheese, extra sauce,... such features on the price can be taken into consideration. "
   ]
  },
  {
   "cell_type": "code",
   "execution_count": 14,
   "id": "f6c40b17-0974-41e5-b14b-aed8a1b953e3",
   "metadata": {},
   "outputs": [],
   "source": [
    "pizza_price_model = LinearRegression()"
   ]
  },
  {
   "cell_type": "code",
   "execution_count": 15,
   "id": "41f4bed7-9ef1-4565-a640-180c481a0d47",
   "metadata": {},
   "outputs": [],
   "source": [
    "y = pizza_df.price_rupiah"
   ]
  },
  {
   "cell_type": "code",
   "execution_count": 16,
   "id": "9e9b7f1b-9b3b-40a9-b4a2-0693a3edeb88",
   "metadata": {},
   "outputs": [],
   "source": [
    "X = pizza_df.drop(['company', 'price_rupiah', 'topping', 'variant', 'size',\n",
    "       'extra_sauce', 'extra_cheese'], axis = 1)"
   ]
  },
  {
   "cell_type": "code",
   "execution_count": 17,
   "id": "307ec5b9-2e63-4d6b-a1b6-5aca9c429b1d",
   "metadata": {},
   "outputs": [
    {
     "data": {
      "text/plain": [
       "LinearRegression()"
      ]
     },
     "execution_count": 17,
     "metadata": {},
     "output_type": "execute_result"
    }
   ],
   "source": [
    "pizza_price_model.fit(X,y)"
   ]
  },
  {
   "cell_type": "markdown",
   "id": "4d283b53-83d5-45b5-a29a-6561942115b2",
   "metadata": {},
   "source": [
    ">### **Performance Analysis**"
   ]
  },
  {
   "cell_type": "code",
   "execution_count": 18,
   "id": "fac2981b-63ec-4dd0-bfd7-5fb04c6c3081",
   "metadata": {},
   "outputs": [],
   "source": [
    "y_pred = pizza_price_model.predict(X)"
   ]
  },
  {
   "cell_type": "code",
   "execution_count": 19,
   "id": "752f2915-0443-4161-94f8-1edff1264db9",
   "metadata": {},
   "outputs": [],
   "source": [
    "r_error = r2_score(y, y_pred)"
   ]
  },
  {
   "cell_type": "code",
   "execution_count": 20,
   "id": "d9ac0353-e682-4eb1-a339-05ce3d57a939",
   "metadata": {},
   "outputs": [
    {
     "name": "stdout",
     "output_type": "stream",
     "text": [
      "0.6838914266482493\n"
     ]
    }
   ],
   "source": [
    "print(r_error)"
   ]
  },
  {
   "cell_type": "markdown",
   "id": "8c1b5f96-132b-4638-89fa-8f8f1e1d74d5",
   "metadata": {},
   "source": [
    ">### **Conclusion**"
   ]
  },
  {
   "cell_type": "markdown",
   "id": "e74fa33a-c8b9-4f47-81f7-a0e5b1e7f0b3",
   "metadata": {},
   "source": [
    "Accuaracy of the model is **68.39%**. This also concludes that diameter of the pizza is not solely capable for prediction of price of pizza. Other features play an important role. "
   ]
  }
 ],
 "metadata": {
  "kernelspec": {
   "display_name": "ML environment",
   "language": "python",
   "name": "mlenv"
  },
  "language_info": {
   "codemirror_mode": {
    "name": "ipython",
    "version": 3
   },
   "file_extension": ".py",
   "mimetype": "text/x-python",
   "name": "python",
   "nbconvert_exporter": "python",
   "pygments_lexer": "ipython3",
   "version": "3.8.8"
  }
 },
 "nbformat": 4,
 "nbformat_minor": 5
}
